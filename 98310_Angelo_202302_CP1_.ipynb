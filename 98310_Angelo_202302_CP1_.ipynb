{
  "nbformat": 4,
  "nbformat_minor": 0,
  "metadata": {
    "colab": {
      "provenance": [],
      "mount_file_id": "1iHlnnhN43GQlUfBXOryr39_Mq-o0iL3E",
      "authorship_tag": "ABX9TyPNgJa3ScNSndbnfl+19aT+",
      "include_colab_link": true
    },
    "kernelspec": {
      "name": "python3",
      "display_name": "Python 3"
    },
    "language_info": {
      "name": "python"
    }
  },
  "cells": [
    {
      "cell_type": "markdown",
      "metadata": {
        "id": "view-in-github",
        "colab_type": "text"
      },
      "source": [
        "<a href=\"https://colab.research.google.com/github/AngPF/CP1-IA-Chatbot/blob/main/98310_Angelo_202302_CP1_.ipynb\" target=\"_parent\"><img src=\"https://colab.research.google.com/assets/colab-badge.svg\" alt=\"Open In Colab\"/></a>"
      ]
    },
    {
      "cell_type": "code",
      "execution_count": 4,
      "metadata": {
        "id": "dkWXSQs5pbXW"
      },
      "outputs": [],
      "source": [
        "import numpy as np\n",
        "import pandas as pd\n",
        "import matplotlib.pyplot as plt\n",
        "import seaborn as sns\n",
        "import math"
      ]
    },
    {
      "cell_type": "markdown",
      "source": [
        "#CHECHPOINT 4 - IA & CHATBOT\n",
        "\n",
        "\n",
        "*   # ORIGEM\n",
        "Origem do DataSet: https://www.kaggle.com/datasets/justinas/nba-players-data\n",
        "\n",
        "*   # NOME\n",
        "Nome do DataSet: NBA Players\n",
        "\n",
        "*   # TAMANHO\n",
        "Tamanho do DataSet: 1.84 MB\n",
        "\n",
        "*   # QUANTIDADE DE REGISTRO\n",
        "quantidade de registro: 270.710\n",
        "\n",
        "*   # LINHAS X COLUNAS\n",
        "Linhas: 12.305\n",
        "Coluna: 22\n",
        "\n",
        "*   # DADOS FALTANTES\n",
        "Dados Faltantes: 0\n",
        "\n",
        "\n",
        "\n",
        "\n",
        "\n",
        "\n",
        "\n"
      ],
      "metadata": {
        "id": "UiNllOdDso-p"
      }
    },
    {
      "cell_type": "code",
      "source": [
        "tabela = pd.read_csv('/content/drive/MyDrive/Checkpoint IA & Chatbot/all_seasons.csv')\n",
        "\n",
        "display (tabela)"
      ],
      "metadata": {
        "colab": {
          "base_uri": "https://localhost:8080/",
          "height": 652
        },
        "id": "t7rfXqZkqiu6",
        "outputId": "b63496d7-5c18-44ff-d1e9-cfcd019690e1"
      },
      "execution_count": 11,
      "outputs": [
        {
          "output_type": "display_data",
          "data": {
            "text/plain": [
              "       Unnamed: 0        player_name team_abbreviation   age  player_height  \\\n",
              "0               0      Dennis Rodman               CHI  36.0         198.12   \n",
              "1               1  Dwayne Schintzius               LAC  28.0         215.90   \n",
              "2               2       Earl Cureton               TOR  39.0         205.74   \n",
              "3               3        Ed O'Bannon               DAL  24.0         203.20   \n",
              "4               4        Ed Pinckney               MIA  34.0         205.74   \n",
              "...           ...                ...               ...   ...            ...   \n",
              "12300       12300    Markieff Morris               MIA  32.0         205.74   \n",
              "12301       12301     Markelle Fultz               ORL  24.0         193.04   \n",
              "12302       12302       Marcus Smart               BOS  28.0         193.04   \n",
              "12303       12303     Marcus Garrett               MIA  23.0         195.58   \n",
              "12304       12304       Micah Potter               DET  24.0         208.28   \n",
              "\n",
              "       player_weight                      college country draft_year  \\\n",
              "0          99.790240  Southeastern Oklahoma State     USA       1986   \n",
              "1         117.933920                      Florida     USA       1990   \n",
              "2          95.254320                Detroit Mercy     USA       1979   \n",
              "3         100.697424                         UCLA     USA       1995   \n",
              "4         108.862080                    Villanova     USA       1985   \n",
              "...              ...                          ...     ...        ...   \n",
              "12300     111.130040                       Kansas     USA       2011   \n",
              "12301      94.800728                   Washington     USA       2017   \n",
              "12302      99.790240               Oklahoma State     USA       2014   \n",
              "12303      92.986360                       Kansas     USA  Undrafted   \n",
              "12304     112.490816                    Wisconsin     USA  Undrafted   \n",
              "\n",
              "      draft_round  ...   pts   reb  ast  net_rating  oreb_pct  dreb_pct  \\\n",
              "0               2  ...   5.7  16.1  3.1        16.1     0.186     0.323   \n",
              "1               1  ...   2.3   1.5  0.3        12.3     0.078     0.151   \n",
              "2               3  ...   0.8   1.0  0.4        -2.1     0.105     0.102   \n",
              "3               1  ...   3.7   2.3  0.6        -8.7     0.060     0.149   \n",
              "4               1  ...   2.4   2.4  0.2       -11.2     0.109     0.179   \n",
              "...           ...  ...   ...   ...  ...         ...       ...       ...   \n",
              "12300           1  ...   7.6   2.6  1.4         4.5     0.059     0.089   \n",
              "12301           1  ...  10.8   2.7  5.5        -5.3     0.010     0.116   \n",
              "12302           1  ...  12.1   3.8  5.9         9.3     0.018     0.093   \n",
              "12303   Undrafted  ...   1.1   1.9  0.6         5.8     0.072     0.108   \n",
              "12304   Undrafted  ...   4.0   3.0  0.0       -56.4     0.095     0.125   \n",
              "\n",
              "       usg_pct  ts_pct  ast_pct   season  \n",
              "0        0.100   0.479    0.113  1996-97  \n",
              "1        0.175   0.430    0.048  1996-97  \n",
              "2        0.103   0.376    0.148  1996-97  \n",
              "3        0.167   0.399    0.077  1996-97  \n",
              "4        0.127   0.611    0.040  1996-97  \n",
              "...        ...     ...      ...      ...  \n",
              "12300    0.197   0.547    0.116  2021-22  \n",
              "12301    0.265   0.517    0.448  2021-22  \n",
              "12302    0.179   0.540    0.245  2021-22  \n",
              "12303    0.086   0.280    0.069  2021-22  \n",
              "12304    0.148   0.505    0.000  2021-22  \n",
              "\n",
              "[12305 rows x 22 columns]"
            ],
            "text/html": [
              "\n",
              "  <div id=\"df-3e7d9059-ac7f-4bba-8fbd-c40bfeda5459\" class=\"colab-df-container\">\n",
              "    <div>\n",
              "<style scoped>\n",
              "    .dataframe tbody tr th:only-of-type {\n",
              "        vertical-align: middle;\n",
              "    }\n",
              "\n",
              "    .dataframe tbody tr th {\n",
              "        vertical-align: top;\n",
              "    }\n",
              "\n",
              "    .dataframe thead th {\n",
              "        text-align: right;\n",
              "    }\n",
              "</style>\n",
              "<table border=\"1\" class=\"dataframe\">\n",
              "  <thead>\n",
              "    <tr style=\"text-align: right;\">\n",
              "      <th></th>\n",
              "      <th>Unnamed: 0</th>\n",
              "      <th>player_name</th>\n",
              "      <th>team_abbreviation</th>\n",
              "      <th>age</th>\n",
              "      <th>player_height</th>\n",
              "      <th>player_weight</th>\n",
              "      <th>college</th>\n",
              "      <th>country</th>\n",
              "      <th>draft_year</th>\n",
              "      <th>draft_round</th>\n",
              "      <th>...</th>\n",
              "      <th>pts</th>\n",
              "      <th>reb</th>\n",
              "      <th>ast</th>\n",
              "      <th>net_rating</th>\n",
              "      <th>oreb_pct</th>\n",
              "      <th>dreb_pct</th>\n",
              "      <th>usg_pct</th>\n",
              "      <th>ts_pct</th>\n",
              "      <th>ast_pct</th>\n",
              "      <th>season</th>\n",
              "    </tr>\n",
              "  </thead>\n",
              "  <tbody>\n",
              "    <tr>\n",
              "      <th>0</th>\n",
              "      <td>0</td>\n",
              "      <td>Dennis Rodman</td>\n",
              "      <td>CHI</td>\n",
              "      <td>36.0</td>\n",
              "      <td>198.12</td>\n",
              "      <td>99.790240</td>\n",
              "      <td>Southeastern Oklahoma State</td>\n",
              "      <td>USA</td>\n",
              "      <td>1986</td>\n",
              "      <td>2</td>\n",
              "      <td>...</td>\n",
              "      <td>5.7</td>\n",
              "      <td>16.1</td>\n",
              "      <td>3.1</td>\n",
              "      <td>16.1</td>\n",
              "      <td>0.186</td>\n",
              "      <td>0.323</td>\n",
              "      <td>0.100</td>\n",
              "      <td>0.479</td>\n",
              "      <td>0.113</td>\n",
              "      <td>1996-97</td>\n",
              "    </tr>\n",
              "    <tr>\n",
              "      <th>1</th>\n",
              "      <td>1</td>\n",
              "      <td>Dwayne Schintzius</td>\n",
              "      <td>LAC</td>\n",
              "      <td>28.0</td>\n",
              "      <td>215.90</td>\n",
              "      <td>117.933920</td>\n",
              "      <td>Florida</td>\n",
              "      <td>USA</td>\n",
              "      <td>1990</td>\n",
              "      <td>1</td>\n",
              "      <td>...</td>\n",
              "      <td>2.3</td>\n",
              "      <td>1.5</td>\n",
              "      <td>0.3</td>\n",
              "      <td>12.3</td>\n",
              "      <td>0.078</td>\n",
              "      <td>0.151</td>\n",
              "      <td>0.175</td>\n",
              "      <td>0.430</td>\n",
              "      <td>0.048</td>\n",
              "      <td>1996-97</td>\n",
              "    </tr>\n",
              "    <tr>\n",
              "      <th>2</th>\n",
              "      <td>2</td>\n",
              "      <td>Earl Cureton</td>\n",
              "      <td>TOR</td>\n",
              "      <td>39.0</td>\n",
              "      <td>205.74</td>\n",
              "      <td>95.254320</td>\n",
              "      <td>Detroit Mercy</td>\n",
              "      <td>USA</td>\n",
              "      <td>1979</td>\n",
              "      <td>3</td>\n",
              "      <td>...</td>\n",
              "      <td>0.8</td>\n",
              "      <td>1.0</td>\n",
              "      <td>0.4</td>\n",
              "      <td>-2.1</td>\n",
              "      <td>0.105</td>\n",
              "      <td>0.102</td>\n",
              "      <td>0.103</td>\n",
              "      <td>0.376</td>\n",
              "      <td>0.148</td>\n",
              "      <td>1996-97</td>\n",
              "    </tr>\n",
              "    <tr>\n",
              "      <th>3</th>\n",
              "      <td>3</td>\n",
              "      <td>Ed O'Bannon</td>\n",
              "      <td>DAL</td>\n",
              "      <td>24.0</td>\n",
              "      <td>203.20</td>\n",
              "      <td>100.697424</td>\n",
              "      <td>UCLA</td>\n",
              "      <td>USA</td>\n",
              "      <td>1995</td>\n",
              "      <td>1</td>\n",
              "      <td>...</td>\n",
              "      <td>3.7</td>\n",
              "      <td>2.3</td>\n",
              "      <td>0.6</td>\n",
              "      <td>-8.7</td>\n",
              "      <td>0.060</td>\n",
              "      <td>0.149</td>\n",
              "      <td>0.167</td>\n",
              "      <td>0.399</td>\n",
              "      <td>0.077</td>\n",
              "      <td>1996-97</td>\n",
              "    </tr>\n",
              "    <tr>\n",
              "      <th>4</th>\n",
              "      <td>4</td>\n",
              "      <td>Ed Pinckney</td>\n",
              "      <td>MIA</td>\n",
              "      <td>34.0</td>\n",
              "      <td>205.74</td>\n",
              "      <td>108.862080</td>\n",
              "      <td>Villanova</td>\n",
              "      <td>USA</td>\n",
              "      <td>1985</td>\n",
              "      <td>1</td>\n",
              "      <td>...</td>\n",
              "      <td>2.4</td>\n",
              "      <td>2.4</td>\n",
              "      <td>0.2</td>\n",
              "      <td>-11.2</td>\n",
              "      <td>0.109</td>\n",
              "      <td>0.179</td>\n",
              "      <td>0.127</td>\n",
              "      <td>0.611</td>\n",
              "      <td>0.040</td>\n",
              "      <td>1996-97</td>\n",
              "    </tr>\n",
              "    <tr>\n",
              "      <th>...</th>\n",
              "      <td>...</td>\n",
              "      <td>...</td>\n",
              "      <td>...</td>\n",
              "      <td>...</td>\n",
              "      <td>...</td>\n",
              "      <td>...</td>\n",
              "      <td>...</td>\n",
              "      <td>...</td>\n",
              "      <td>...</td>\n",
              "      <td>...</td>\n",
              "      <td>...</td>\n",
              "      <td>...</td>\n",
              "      <td>...</td>\n",
              "      <td>...</td>\n",
              "      <td>...</td>\n",
              "      <td>...</td>\n",
              "      <td>...</td>\n",
              "      <td>...</td>\n",
              "      <td>...</td>\n",
              "      <td>...</td>\n",
              "      <td>...</td>\n",
              "    </tr>\n",
              "    <tr>\n",
              "      <th>12300</th>\n",
              "      <td>12300</td>\n",
              "      <td>Markieff Morris</td>\n",
              "      <td>MIA</td>\n",
              "      <td>32.0</td>\n",
              "      <td>205.74</td>\n",
              "      <td>111.130040</td>\n",
              "      <td>Kansas</td>\n",
              "      <td>USA</td>\n",
              "      <td>2011</td>\n",
              "      <td>1</td>\n",
              "      <td>...</td>\n",
              "      <td>7.6</td>\n",
              "      <td>2.6</td>\n",
              "      <td>1.4</td>\n",
              "      <td>4.5</td>\n",
              "      <td>0.059</td>\n",
              "      <td>0.089</td>\n",
              "      <td>0.197</td>\n",
              "      <td>0.547</td>\n",
              "      <td>0.116</td>\n",
              "      <td>2021-22</td>\n",
              "    </tr>\n",
              "    <tr>\n",
              "      <th>12301</th>\n",
              "      <td>12301</td>\n",
              "      <td>Markelle Fultz</td>\n",
              "      <td>ORL</td>\n",
              "      <td>24.0</td>\n",
              "      <td>193.04</td>\n",
              "      <td>94.800728</td>\n",
              "      <td>Washington</td>\n",
              "      <td>USA</td>\n",
              "      <td>2017</td>\n",
              "      <td>1</td>\n",
              "      <td>...</td>\n",
              "      <td>10.8</td>\n",
              "      <td>2.7</td>\n",
              "      <td>5.5</td>\n",
              "      <td>-5.3</td>\n",
              "      <td>0.010</td>\n",
              "      <td>0.116</td>\n",
              "      <td>0.265</td>\n",
              "      <td>0.517</td>\n",
              "      <td>0.448</td>\n",
              "      <td>2021-22</td>\n",
              "    </tr>\n",
              "    <tr>\n",
              "      <th>12302</th>\n",
              "      <td>12302</td>\n",
              "      <td>Marcus Smart</td>\n",
              "      <td>BOS</td>\n",
              "      <td>28.0</td>\n",
              "      <td>193.04</td>\n",
              "      <td>99.790240</td>\n",
              "      <td>Oklahoma State</td>\n",
              "      <td>USA</td>\n",
              "      <td>2014</td>\n",
              "      <td>1</td>\n",
              "      <td>...</td>\n",
              "      <td>12.1</td>\n",
              "      <td>3.8</td>\n",
              "      <td>5.9</td>\n",
              "      <td>9.3</td>\n",
              "      <td>0.018</td>\n",
              "      <td>0.093</td>\n",
              "      <td>0.179</td>\n",
              "      <td>0.540</td>\n",
              "      <td>0.245</td>\n",
              "      <td>2021-22</td>\n",
              "    </tr>\n",
              "    <tr>\n",
              "      <th>12303</th>\n",
              "      <td>12303</td>\n",
              "      <td>Marcus Garrett</td>\n",
              "      <td>MIA</td>\n",
              "      <td>23.0</td>\n",
              "      <td>195.58</td>\n",
              "      <td>92.986360</td>\n",
              "      <td>Kansas</td>\n",
              "      <td>USA</td>\n",
              "      <td>Undrafted</td>\n",
              "      <td>Undrafted</td>\n",
              "      <td>...</td>\n",
              "      <td>1.1</td>\n",
              "      <td>1.9</td>\n",
              "      <td>0.6</td>\n",
              "      <td>5.8</td>\n",
              "      <td>0.072</td>\n",
              "      <td>0.108</td>\n",
              "      <td>0.086</td>\n",
              "      <td>0.280</td>\n",
              "      <td>0.069</td>\n",
              "      <td>2021-22</td>\n",
              "    </tr>\n",
              "    <tr>\n",
              "      <th>12304</th>\n",
              "      <td>12304</td>\n",
              "      <td>Micah Potter</td>\n",
              "      <td>DET</td>\n",
              "      <td>24.0</td>\n",
              "      <td>208.28</td>\n",
              "      <td>112.490816</td>\n",
              "      <td>Wisconsin</td>\n",
              "      <td>USA</td>\n",
              "      <td>Undrafted</td>\n",
              "      <td>Undrafted</td>\n",
              "      <td>...</td>\n",
              "      <td>4.0</td>\n",
              "      <td>3.0</td>\n",
              "      <td>0.0</td>\n",
              "      <td>-56.4</td>\n",
              "      <td>0.095</td>\n",
              "      <td>0.125</td>\n",
              "      <td>0.148</td>\n",
              "      <td>0.505</td>\n",
              "      <td>0.000</td>\n",
              "      <td>2021-22</td>\n",
              "    </tr>\n",
              "  </tbody>\n",
              "</table>\n",
              "<p>12305 rows × 22 columns</p>\n",
              "</div>\n",
              "    <div class=\"colab-df-buttons\">\n",
              "\n",
              "  <div class=\"colab-df-container\">\n",
              "    <button class=\"colab-df-convert\" onclick=\"convertToInteractive('df-3e7d9059-ac7f-4bba-8fbd-c40bfeda5459')\"\n",
              "            title=\"Convert this dataframe to an interactive table.\"\n",
              "            style=\"display:none;\">\n",
              "\n",
              "  <svg xmlns=\"http://www.w3.org/2000/svg\" height=\"24px\" viewBox=\"0 -960 960 960\">\n",
              "    <path d=\"M120-120v-720h720v720H120Zm60-500h600v-160H180v160Zm220 220h160v-160H400v160Zm0 220h160v-160H400v160ZM180-400h160v-160H180v160Zm440 0h160v-160H620v160ZM180-180h160v-160H180v160Zm440 0h160v-160H620v160Z\"/>\n",
              "  </svg>\n",
              "    </button>\n",
              "\n",
              "  <style>\n",
              "    .colab-df-container {\n",
              "      display:flex;\n",
              "      gap: 12px;\n",
              "    }\n",
              "\n",
              "    .colab-df-convert {\n",
              "      background-color: #E8F0FE;\n",
              "      border: none;\n",
              "      border-radius: 50%;\n",
              "      cursor: pointer;\n",
              "      display: none;\n",
              "      fill: #1967D2;\n",
              "      height: 32px;\n",
              "      padding: 0 0 0 0;\n",
              "      width: 32px;\n",
              "    }\n",
              "\n",
              "    .colab-df-convert:hover {\n",
              "      background-color: #E2EBFA;\n",
              "      box-shadow: 0px 1px 2px rgba(60, 64, 67, 0.3), 0px 1px 3px 1px rgba(60, 64, 67, 0.15);\n",
              "      fill: #174EA6;\n",
              "    }\n",
              "\n",
              "    .colab-df-buttons div {\n",
              "      margin-bottom: 4px;\n",
              "    }\n",
              "\n",
              "    [theme=dark] .colab-df-convert {\n",
              "      background-color: #3B4455;\n",
              "      fill: #D2E3FC;\n",
              "    }\n",
              "\n",
              "    [theme=dark] .colab-df-convert:hover {\n",
              "      background-color: #434B5C;\n",
              "      box-shadow: 0px 1px 3px 1px rgba(0, 0, 0, 0.15);\n",
              "      filter: drop-shadow(0px 1px 2px rgba(0, 0, 0, 0.3));\n",
              "      fill: #FFFFFF;\n",
              "    }\n",
              "  </style>\n",
              "\n",
              "    <script>\n",
              "      const buttonEl =\n",
              "        document.querySelector('#df-3e7d9059-ac7f-4bba-8fbd-c40bfeda5459 button.colab-df-convert');\n",
              "      buttonEl.style.display =\n",
              "        google.colab.kernel.accessAllowed ? 'block' : 'none';\n",
              "\n",
              "      async function convertToInteractive(key) {\n",
              "        const element = document.querySelector('#df-3e7d9059-ac7f-4bba-8fbd-c40bfeda5459');\n",
              "        const dataTable =\n",
              "          await google.colab.kernel.invokeFunction('convertToInteractive',\n",
              "                                                    [key], {});\n",
              "        if (!dataTable) return;\n",
              "\n",
              "        const docLinkHtml = 'Like what you see? Visit the ' +\n",
              "          '<a target=\"_blank\" href=https://colab.research.google.com/notebooks/data_table.ipynb>data table notebook</a>'\n",
              "          + ' to learn more about interactive tables.';\n",
              "        element.innerHTML = '';\n",
              "        dataTable['output_type'] = 'display_data';\n",
              "        await google.colab.output.renderOutput(dataTable, element);\n",
              "        const docLink = document.createElement('div');\n",
              "        docLink.innerHTML = docLinkHtml;\n",
              "        element.appendChild(docLink);\n",
              "      }\n",
              "    </script>\n",
              "  </div>\n",
              "\n",
              "\n",
              "<div id=\"df-5b4d0bd2-d389-4e86-943e-5f4ea72f490b\">\n",
              "  <button class=\"colab-df-quickchart\" onclick=\"quickchart('df-5b4d0bd2-d389-4e86-943e-5f4ea72f490b')\"\n",
              "            title=\"Suggest charts.\"\n",
              "            style=\"display:none;\">\n",
              "\n",
              "<svg xmlns=\"http://www.w3.org/2000/svg\" height=\"24px\"viewBox=\"0 0 24 24\"\n",
              "     width=\"24px\">\n",
              "    <g>\n",
              "        <path d=\"M19 3H5c-1.1 0-2 .9-2 2v14c0 1.1.9 2 2 2h14c1.1 0 2-.9 2-2V5c0-1.1-.9-2-2-2zM9 17H7v-7h2v7zm4 0h-2V7h2v10zm4 0h-2v-4h2v4z\"/>\n",
              "    </g>\n",
              "</svg>\n",
              "  </button>\n",
              "\n",
              "<style>\n",
              "  .colab-df-quickchart {\n",
              "      --bg-color: #E8F0FE;\n",
              "      --fill-color: #1967D2;\n",
              "      --hover-bg-color: #E2EBFA;\n",
              "      --hover-fill-color: #174EA6;\n",
              "      --disabled-fill-color: #AAA;\n",
              "      --disabled-bg-color: #DDD;\n",
              "  }\n",
              "\n",
              "  [theme=dark] .colab-df-quickchart {\n",
              "      --bg-color: #3B4455;\n",
              "      --fill-color: #D2E3FC;\n",
              "      --hover-bg-color: #434B5C;\n",
              "      --hover-fill-color: #FFFFFF;\n",
              "      --disabled-bg-color: #3B4455;\n",
              "      --disabled-fill-color: #666;\n",
              "  }\n",
              "\n",
              "  .colab-df-quickchart {\n",
              "    background-color: var(--bg-color);\n",
              "    border: none;\n",
              "    border-radius: 50%;\n",
              "    cursor: pointer;\n",
              "    display: none;\n",
              "    fill: var(--fill-color);\n",
              "    height: 32px;\n",
              "    padding: 0;\n",
              "    width: 32px;\n",
              "  }\n",
              "\n",
              "  .colab-df-quickchart:hover {\n",
              "    background-color: var(--hover-bg-color);\n",
              "    box-shadow: 0 1px 2px rgba(60, 64, 67, 0.3), 0 1px 3px 1px rgba(60, 64, 67, 0.15);\n",
              "    fill: var(--button-hover-fill-color);\n",
              "  }\n",
              "\n",
              "  .colab-df-quickchart-complete:disabled,\n",
              "  .colab-df-quickchart-complete:disabled:hover {\n",
              "    background-color: var(--disabled-bg-color);\n",
              "    fill: var(--disabled-fill-color);\n",
              "    box-shadow: none;\n",
              "  }\n",
              "\n",
              "  .colab-df-spinner {\n",
              "    border: 2px solid var(--fill-color);\n",
              "    border-color: transparent;\n",
              "    border-bottom-color: var(--fill-color);\n",
              "    animation:\n",
              "      spin 1s steps(1) infinite;\n",
              "  }\n",
              "\n",
              "  @keyframes spin {\n",
              "    0% {\n",
              "      border-color: transparent;\n",
              "      border-bottom-color: var(--fill-color);\n",
              "      border-left-color: var(--fill-color);\n",
              "    }\n",
              "    20% {\n",
              "      border-color: transparent;\n",
              "      border-left-color: var(--fill-color);\n",
              "      border-top-color: var(--fill-color);\n",
              "    }\n",
              "    30% {\n",
              "      border-color: transparent;\n",
              "      border-left-color: var(--fill-color);\n",
              "      border-top-color: var(--fill-color);\n",
              "      border-right-color: var(--fill-color);\n",
              "    }\n",
              "    40% {\n",
              "      border-color: transparent;\n",
              "      border-right-color: var(--fill-color);\n",
              "      border-top-color: var(--fill-color);\n",
              "    }\n",
              "    60% {\n",
              "      border-color: transparent;\n",
              "      border-right-color: var(--fill-color);\n",
              "    }\n",
              "    80% {\n",
              "      border-color: transparent;\n",
              "      border-right-color: var(--fill-color);\n",
              "      border-bottom-color: var(--fill-color);\n",
              "    }\n",
              "    90% {\n",
              "      border-color: transparent;\n",
              "      border-bottom-color: var(--fill-color);\n",
              "    }\n",
              "  }\n",
              "</style>\n",
              "\n",
              "  <script>\n",
              "    async function quickchart(key) {\n",
              "      const quickchartButtonEl =\n",
              "        document.querySelector('#' + key + ' button');\n",
              "      quickchartButtonEl.disabled = true;  // To prevent multiple clicks.\n",
              "      quickchartButtonEl.classList.add('colab-df-spinner');\n",
              "      try {\n",
              "        const charts = await google.colab.kernel.invokeFunction(\n",
              "            'suggestCharts', [key], {});\n",
              "      } catch (error) {\n",
              "        console.error('Error during call to suggestCharts:', error);\n",
              "      }\n",
              "      quickchartButtonEl.classList.remove('colab-df-spinner');\n",
              "      quickchartButtonEl.classList.add('colab-df-quickchart-complete');\n",
              "    }\n",
              "    (() => {\n",
              "      let quickchartButtonEl =\n",
              "        document.querySelector('#df-5b4d0bd2-d389-4e86-943e-5f4ea72f490b button');\n",
              "      quickchartButtonEl.style.display =\n",
              "        google.colab.kernel.accessAllowed ? 'block' : 'none';\n",
              "    })();\n",
              "  </script>\n",
              "</div>\n",
              "    </div>\n",
              "  </div>\n"
            ]
          },
          "metadata": {}
        }
      ]
    },
    {
      "cell_type": "code",
      "source": [
        "# Média\n",
        "\n",
        "def media_aritmetica(x: list) -> float:\n",
        "    N = len(x)\n",
        "    soma = 0\n",
        "    count = 0 #conta os NAN\n",
        "    for xi in x:\n",
        "      if not math.isnan(xi):\n",
        "        soma += xi # soma+xi\n",
        "        count += 1\n",
        "      if count == 0:\n",
        "        return float('nan')\n",
        "    media = soma / count\n",
        "    return(f'média da idade dos jogadores: {media:.2f}')\n",
        "\n",
        "media_aritmetica(tabela.age)\n"
      ],
      "metadata": {
        "colab": {
          "base_uri": "https://localhost:8080/",
          "height": 36
        },
        "id": "tJ4AtuUvxJoP",
        "outputId": "1ecaa1cd-08c8-46b6-8de3-56f0691f7cba"
      },
      "execution_count": 42,
      "outputs": [
        {
          "output_type": "execute_result",
          "data": {
            "text/plain": [
              "'média dos anos: 27.08'"
            ],
            "application/vnd.google.colaboratory.intrinsic+json": {
              "type": "string"
            }
          },
          "metadata": {},
          "execution_count": 42
        }
      ]
    },
    {
      "cell_type": "code",
      "source": [
        "# Média\n",
        "\n",
        "def media_aritmetica(x: list) -> float:\n",
        "    N = len(x)\n",
        "    soma = 0\n",
        "    count = 0 #conta os NAN\n",
        "    for xi in x:\n",
        "      if not math.isnan(xi):\n",
        "        soma += xi # soma+xi\n",
        "        count += 1\n",
        "      if count == 0:\n",
        "        return float('nan')\n",
        "    media = soma / count\n",
        "    return(f'média da altura dos jogadores: {media:.2f}')\n",
        "\n",
        "media_aritmetica(tabela.player_height)\n"
      ],
      "metadata": {
        "colab": {
          "base_uri": "https://localhost:8080/",
          "height": 36
        },
        "id": "XOq1AVGg6QPm",
        "outputId": "78895d78-4f1a-426d-9576-6a40a9683001"
      },
      "execution_count": 41,
      "outputs": [
        {
          "output_type": "execute_result",
          "data": {
            "text/plain": [
              "'média dos anos: 200.61'"
            ],
            "application/vnd.google.colaboratory.intrinsic+json": {
              "type": "string"
            }
          },
          "metadata": {},
          "execution_count": 41
        }
      ]
    },
    {
      "cell_type": "code",
      "source": [
        "#Mediana\n",
        "\n",
        "def mediana(x):\n",
        "    x_cleaned = [xi for xi in x if not np.isnan(xi)]\n",
        "    x_cleaned.sort()\n",
        "    N = len(x_cleaned)\n",
        "\n",
        "    if N == 0:\n",
        "        return float('nan')\n",
        "\n",
        "    if N % 2 == 0:\n",
        "        a = N // 2 - 1\n",
        "        b = N // 2\n",
        "        mediana = (x_cleaned[a] + x_cleaned[b]) / 2\n",
        "    else:\n",
        "        a = N // 2\n",
        "        mediana = x_cleaned[a]\n",
        "\n",
        "    return (f'A mediana das idades é: {mediana: .2f}')\n",
        "\n",
        "mediana(tabela.age)\n"
      ],
      "metadata": {
        "colab": {
          "base_uri": "https://localhost:8080/",
          "height": 36
        },
        "id": "rM5K9V1j2FU2",
        "outputId": "15a77389-f1b3-40d1-8d4d-d1e395cd9ad9"
      },
      "execution_count": 44,
      "outputs": [
        {
          "output_type": "execute_result",
          "data": {
            "text/plain": [
              "'A mediana é:  26.00'"
            ],
            "application/vnd.google.colaboratory.intrinsic+json": {
              "type": "string"
            }
          },
          "metadata": {},
          "execution_count": 44
        }
      ]
    },
    {
      "cell_type": "code",
      "source": [
        "#Mediana\n",
        "\n",
        "def mediana(x):\n",
        "    x_cleaned = [xi for xi in x if not np.isnan(xi)]\n",
        "    x_cleaned.sort()\n",
        "    N = len(x_cleaned)\n",
        "\n",
        "    if N == 0:\n",
        "        return float('nan')\n",
        "\n",
        "    if N % 2 == 0:\n",
        "        a = N // 2 - 1\n",
        "        b = N // 2\n",
        "        mediana = (x_cleaned[a] + x_cleaned[b]) / 2\n",
        "    else:\n",
        "        a = N // 2\n",
        "        mediana = x_cleaned[a]\n",
        "\n",
        "    return (f'A mediana dos pontos é: {mediana: .2f}')\n",
        "\n",
        "mediana(tabela.pts)\n"
      ],
      "metadata": {
        "colab": {
          "base_uri": "https://localhost:8080/",
          "height": 36
        },
        "id": "3qKAndi361Hf",
        "outputId": "a8e1efa3-b80d-4345-cd82-d24f67d8a537"
      },
      "execution_count": 46,
      "outputs": [
        {
          "output_type": "execute_result",
          "data": {
            "text/plain": [
              "'A mediana dos pontos é:  6.70'"
            ],
            "application/vnd.google.colaboratory.intrinsic+json": {
              "type": "string"
            }
          },
          "metadata": {},
          "execution_count": 46
        }
      ]
    },
    {
      "cell_type": "code",
      "source": [
        "# Variância\n",
        "\n",
        "def variancia_amostral(x):\n",
        "    x_cleaned = [xi for xi in x if not np.isnan(xi)]  # Remova os valores NaN\n",
        "    media = np.nanmean(x_cleaned)  # Calcule a média, ignorando NaN\n",
        "    N = len(x_cleaned)\n",
        "    soma = 0\n",
        "    for xi in x_cleaned:\n",
        "        soma += (xi - media) ** 2\n",
        "    variancia = soma / (N - 1)\n",
        "    return f'variancia das idades é: {variancia:.2f}'\n",
        "\n",
        "variancia_amostral(tabela.age)"
      ],
      "metadata": {
        "colab": {
          "base_uri": "https://localhost:8080/",
          "height": 36
        },
        "id": "eKhrzE_k7AK1",
        "outputId": "bd89e6c6-8cff-4f43-844a-ac94e9a36c35"
      },
      "execution_count": 61,
      "outputs": [
        {
          "output_type": "execute_result",
          "data": {
            "text/plain": [
              "'variancia das idades é: 18.80'"
            ],
            "application/vnd.google.colaboratory.intrinsic+json": {
              "type": "string"
            }
          },
          "metadata": {},
          "execution_count": 61
        }
      ]
    },
    {
      "cell_type": "code",
      "source": [
        "# Variância\n",
        "\n",
        "def variancia_amostral(x):\n",
        "    x_cleaned = [xi for xi in x if not np.isnan(xi)]  # Remova os valores NaN\n",
        "    media = np.nanmean(x_cleaned)  # Calcule a média, ignorando NaN\n",
        "    N = len(x_cleaned)\n",
        "    soma = 0\n",
        "    for xi in x_cleaned:\n",
        "        soma += (xi - media) ** 2\n",
        "    variancia = soma / (N - 1)\n",
        "    return f'variancia dos pontos é: {variancia:.2f}'\n",
        "\n",
        "variancia_amostral(tabela.pts)"
      ],
      "metadata": {
        "colab": {
          "base_uri": "https://localhost:8080/",
          "height": 36
        },
        "id": "7stu7vEJ8o42",
        "outputId": "31a6f617-374a-4c2d-d639-3809d672c69d"
      },
      "execution_count": 49,
      "outputs": [
        {
          "output_type": "execute_result",
          "data": {
            "text/plain": [
              "'variancia dos pontos é: 35.70'"
            ],
            "application/vnd.google.colaboratory.intrinsic+json": {
              "type": "string"
            }
          },
          "metadata": {},
          "execution_count": 49
        }
      ]
    },
    {
      "cell_type": "code",
      "source": [
        "def desvio_padrao_amostral(x):\n",
        "    desvio_padrao = np.std(x, ddof=1)  # Calcula o desvio padrão amostral usando numpy\n",
        "    return desvio_padrao\n",
        "\n",
        "desvio = desvio_padrao_amostral(tabela['age'])\n",
        "print(f\"O desvio é: {desvio:.2f} \")"
      ],
      "metadata": {
        "colab": {
          "base_uri": "https://localhost:8080/"
        },
        "id": "d_S1O-Nr9ABL",
        "outputId": "945cf350-c23b-4ad6-8f73-fa11687066f5"
      },
      "execution_count": 74,
      "outputs": [
        {
          "output_type": "stream",
          "name": "stdout",
          "text": [
            "O desvio é: 4.34 \n"
          ]
        }
      ]
    },
    {
      "cell_type": "code",
      "source": [
        "def desvio_padrao_amostral(x):\n",
        "    desvio_padrao = np.std(x, ddof=1)  # Calcula o desvio padrão amostral usando numpy\n",
        "    return desvio_padrao\n",
        "\n",
        "desvio = desvio_padrao_amostral(tabela['pts'])\n",
        "print(f\"O desvio é: {desvio:.2f} \")"
      ],
      "metadata": {
        "colab": {
          "base_uri": "https://localhost:8080/"
        },
        "id": "-3APuRxUBwkX",
        "outputId": "35f458c4-0143-4a12-eee3-afda485d44d9"
      },
      "execution_count": 73,
      "outputs": [
        {
          "output_type": "stream",
          "name": "stdout",
          "text": [
            "O desvio é: 5.97 \n"
          ]
        }
      ]
    },
    {
      "cell_type": "code",
      "source": [
        "# Histograma da idade dos jogadores\n",
        "\n",
        "tabela.hist(column = \"age\", bins=100)\n",
        "plt.show()"
      ],
      "metadata": {
        "colab": {
          "base_uri": "https://localhost:8080/",
          "height": 452
        },
        "id": "xxYiPB1DCEGq",
        "outputId": "2373667f-7a5a-4cd2-e416-96e0973168ca"
      },
      "execution_count": 78,
      "outputs": [
        {
          "output_type": "display_data",
          "data": {
            "text/plain": [
              "<Figure size 640x480 with 1 Axes>"
            ],
            "image/png": "[encoded data removed]"
          },
          "metadata": {}
        }
      ]
    },
    {
      "cell_type": "code",
      "source": [
        "# Scatter Plot da idade pela altura dos jogadores\n",
        "\n",
        "idade = tabela.age\n",
        "altura = tabela.player_height\n",
        "\n",
        "plt.scatter(idade,altura)\n",
        "plt.show"
      ],
      "metadata": {
        "colab": {
          "base_uri": "https://localhost:8080/",
          "height": 447
        },
        "id": "OkRfwMntDYQ6",
        "outputId": "8696cf35-8ff1-4889-ff32-9eee1dad6490"
      },
      "execution_count": 81,
      "outputs": [
        {
          "output_type": "execute_result",
          "data": {
            "text/plain": [
              "<function matplotlib.pyplot.show(close=None, block=None)>"
            ]
          },
          "metadata": {},
          "execution_count": 81
        },
        {
          "output_type": "display_data",
          "data": {
            "text/plain": [
              "<Figure size 640x480 with 1 Axes>"
            ],
            "image/png": "[encoded data removed]"
          },
          "metadata": {}
        }
      ]
    }
  ]
}